{
 "cells": [
  {
   "cell_type": "markdown",
   "id": "98253630-7a3f-447b-96c9-7c6e780ac8a8",
   "metadata": {},
   "source": [
    "Notebook demonstrating document indexing using Llamaindex, Pinecone and openai."
   ]
  },
  {
   "cell_type": "markdown",
   "id": "ca3fccb9-73a4-46ca-b415-cc08e2e3a501",
   "metadata": {},
   "source": [
    "# Imports"
   ]
  },
  {
   "cell_type": "code",
   "execution_count": null,
   "id": "426c5e2e-64a9-4c87-b81c-118c431bcf73",
   "metadata": {},
   "outputs": [],
   "source": [
    "import os\n",
    "\n",
    "import llama_index\n",
    "import openai\n",
    "from llama_index.core import (\n",
    "    Document,\n",
    "    SimpleDirectoryReader,\n",
    "    StorageContext,\n",
    "    VectorStoreIndex,\n",
    ")\n",
    "from llama_index.core.indices.service_context import ServiceContext\n",
    "from llama_index.core.node_parser import SentenceWindowNodeParser\n",
    "from llama_index.embeddings.openai import OpenAIEmbedding\n",
    "from llama_index.llms.openai import OpenAI as OpenAILLM\n",
    "from llama_index.vector_stores.pinecone import PineconeVectorStore\n",
    "from openai import OpenAI\n",
    "from pinecone import Pinecone, ServerlessSpec"
   ]
  },
  {
   "cell_type": "code",
   "execution_count": null,
   "id": "b5226db4-feec-48d3-9c11-b8e0522c6977",
   "metadata": {},
   "outputs": [],
   "source": [
    "# set api keys\n",
    "OPENAI_API_KEY = os.environ[\"OPENAI_API_KEY\"]\n",
    "PINECONE_KEY = os.environ[\"PINECONE_KEY\"]"
   ]
  },
  {
   "cell_type": "code",
   "execution_count": null,
   "id": "77b9a3a7-d4d4-4596-8358-21594fc31423",
   "metadata": {},
   "outputs": [],
   "source": [
    "openai.api_key = OPENAI_API_KEY"
   ]
  },
  {
   "cell_type": "code",
   "execution_count": null,
   "id": "bfedecd9-437f-478a-9d60-05cc8d48bac9",
   "metadata": {},
   "outputs": [],
   "source": [
    "pinecone_client = Pinecone(api_key=PINECONE_KEY)"
   ]
  },
  {
   "cell_type": "markdown",
   "id": "d97f91d8-6c4c-4f29-a8b1-35cc0d4169e8",
   "metadata": {},
   "source": [
    "# Read data"
   ]
  },
  {
   "cell_type": "code",
   "execution_count": null,
   "id": "a95f3eff-efbf-420b-b8b4-20fab01327b7",
   "metadata": {},
   "outputs": [],
   "source": [
    "pdf_file = \"HAI_AI-Index-Report_2023.pdf\" # https://aiindex.stanford.edu/wp-content/uploads/2023/04/HAI_AI-Index-Report_2023.pdf"
   ]
  },
  {
   "cell_type": "code",
   "execution_count": null,
   "id": "c40b5eb5-15fd-4285-855f-c9a202817143",
   "metadata": {},
   "outputs": [],
   "source": [
    "reader = SimpleDirectoryReader(input_files=[pdf_file])"
   ]
  },
  {
   "cell_type": "code",
   "execution_count": null,
   "id": "67e6419a-8362-4ef8-b2d7-d076046c1c04",
   "metadata": {},
   "outputs": [],
   "source": [
    "data = reader.load_data()"
   ]
  },
  {
   "cell_type": "code",
   "execution_count": null,
   "id": "744621cf-963f-46ce-b119-09bee4642700",
   "metadata": {},
   "outputs": [],
   "source": [
    "len(data)"
   ]
  },
  {
   "cell_type": "code",
   "execution_count": null,
   "id": "99bb7cbc-411c-453a-949d-ca50ba56724a",
   "metadata": {},
   "outputs": [],
   "source": [
    "document = Document(text=\"\\n\\n\".join([doc.text for doc in data])) # merge the documents spread across pages"
   ]
  },
  {
   "cell_type": "markdown",
   "id": "aaf8b8d3-2256-48a3-acd5-7b227bf80ec4",
   "metadata": {},
   "source": [
    "# Indexing"
   ]
  },
  {
   "cell_type": "code",
   "execution_count": null,
   "id": "c2395a3e-5834-459a-a4ae-9818d5eb3a96",
   "metadata": {},
   "outputs": [],
   "source": [
    "metric = \"cosine\"\n",
    "dim = 1536\n",
    "model = \"gpt-3.5-turbo\"\n",
    "llm = OpenAILLM(model=model, temperature=0, max_tokens=10240, api_key=OPENAI_API_KEY)"
   ]
  },
  {
   "cell_type": "code",
   "execution_count": null,
   "id": "56f96951-6fe8-435f-9675-03f22ef380f4",
   "metadata": {},
   "outputs": [],
   "source": [
    "# sentence-window retrieval\n",
    "node_parser = SentenceWindowNodeParser.from_defaults(\n",
    "    window_size=2,\n",
    "    window_metadata_key=\"window\",\n",
    "    original_text_metadata_key=\"original_text\",\n",
    ")"
   ]
  },
  {
   "cell_type": "code",
   "execution_count": null,
   "id": "82a3ce05-e5ec-4db9-baeb-3b17e88ea7e9",
   "metadata": {},
   "outputs": [],
   "source": [
    "sentence_context = ServiceContext.from_defaults(\n",
    "    llm=llm,\n",
    "    embed_model=OpenAIEmbedding(),\n",
    "    node_parser=node_parser,\n",
    ")"
   ]
  },
  {
   "cell_type": "code",
   "execution_count": null,
   "id": "43957991-750a-45b2-a2ef-680f7ea8f44e",
   "metadata": {},
   "outputs": [],
   "source": [
    "index_name = \"rag-demo\"\n",
    "\n",
    "pinecone_client.create_index(\n",
    "    name=index_name,\n",
    "    dimension=dim,\n",
    "    metric=metric,\n",
    "    spec=ServerlessSpec(cloud=\"aws\", region=\"us-west-2\"),\n",
    ")"
   ]
  },
  {
   "cell_type": "code",
   "execution_count": null,
   "id": "0092552c-e120-440f-8d71-95b169e0719f",
   "metadata": {},
   "outputs": [],
   "source": [
    "pinecone_index = pinecone_client.Index(index_name)\n",
    "vector_store = PineconeVectorStore(pinecone_index=pinecone_index)\n",
    "storage_context = StorageContext.from_defaults(vector_store=vector_store)"
   ]
  },
  {
   "cell_type": "code",
   "execution_count": null,
   "id": "30d8eeea-1629-43fc-8c3f-efaade6985f8",
   "metadata": {},
   "outputs": [],
   "source": [
    "index = VectorStoreIndex.from_documents(\n",
    "    [document],\n",
    "    storage_context=storage_context,\n",
    "    service_context=sentence_context,\n",
    ")"
   ]
  },
  {
   "cell_type": "code",
   "execution_count": null,
   "id": "8c144bc4-9b01-4302-a65f-4514633149cd",
   "metadata": {},
   "outputs": [],
   "source": []
  }
 ],
 "metadata": {
  "kernelspec": {
   "display_name": "base",
   "language": "python",
   "name": "base"
  },
  "language_info": {
   "codemirror_mode": {
    "name": "ipython",
    "version": 3
   },
   "file_extension": ".py",
   "mimetype": "text/x-python",
   "name": "python",
   "nbconvert_exporter": "python",
   "pygments_lexer": "ipython3",
   "version": "3.8.18"
  }
 },
 "nbformat": 4,
 "nbformat_minor": 5
}
